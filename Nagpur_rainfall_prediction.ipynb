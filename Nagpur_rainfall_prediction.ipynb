{
  "cells": [
    {
      "cell_type": "markdown",
      "metadata": {
        "id": "view-in-github",
        "colab_type": "text"
      },
      "source": [
        "<a href=\"https://colab.research.google.com/github/rhutikcodes/weather-prediction-ml-model-analysis/blob/main/Nagpur_rainfall_prediction.ipynb\" target=\"_parent\"><img src=\"https://colab.research.google.com/assets/colab-badge.svg\" alt=\"Open In Colab\"/></a>"
      ]
    },
    {
      "cell_type": "code",
      "execution_count": null,
      "metadata": {
        "colab": {
          "base_uri": "https://localhost:8080/"
        },
        "id": "y4dFeS-vgqxM",
        "outputId": "94ba3a0d-7af0-4c4d-edf9-38fbdeb81c0a"
      },
      "outputs": [
        {
          "name": "stdout",
          "output_type": "stream",
          "text": [
            "Requirement already satisfied: plotly in /usr/local/lib/python3.7/dist-packages (5.5.0)\n",
            "Requirement already satisfied: six in /usr/local/lib/python3.7/dist-packages (from plotly) (1.15.0)\n",
            "Requirement already satisfied: tenacity>=6.2.0 in /usr/local/lib/python3.7/dist-packages (from plotly) (8.0.1)\n"
          ]
        }
      ],
      "source": [
        "!pip install plotly"
      ]
    },
    {
      "cell_type": "code",
      "execution_count": null,
      "metadata": {
        "id": "7CA0yHrYqx0M"
      },
      "outputs": [],
      "source": [
        "import warnings\n",
        "\n",
        "warnings.filterwarnings('ignore')"
      ]
    },
    {
      "cell_type": "markdown",
      "metadata": {
        "id": "aLfKKl3yr5CS"
      },
      "source": [
        "# 1. Import Necessary Libraries\n"
      ]
    },
    {
      "cell_type": "code",
      "execution_count": null,
      "metadata": {
        "id": "tYYpCRG8q41m"
      },
      "outputs": [],
      "source": [
        "import numpy as np # linear algebra\n",
        "import pandas as pd # data processing, CSV file I/O (e.g. pd.read_csv)\n",
        "import plotly.express as px\n",
        "import matplotlib\n",
        "import matplotlib.pyplot as plt\n",
        "import seaborn as sns\n",
        "%matplotlib inline"
      ]
    },
    {
      "cell_type": "markdown",
      "metadata": {
        "id": "ggjx-8x8rfPa"
      },
      "source": [
        "# 2. Problem Statement\n",
        "\n"
      ]
    },
    {
      "cell_type": "markdown",
      "metadata": {
        "id": "GeZL84T7sCPo"
      },
      "source": [
        "# 3. Loading Dataset\n",
        "We will first load and import the dataset to work with"
      ]
    },
    {
      "cell_type": "code",
      "execution_count": null,
      "metadata": {
        "id": "z66oC18MsG9O"
      },
      "outputs": [],
      "source": [
        "df_raw = pd.read_csv('https://raw.githubusercontent.com/rhutikcodes/weather-prediction-ml-model-analysis/main/Nagpur_dataset%20-%20foo2014-2022.csv')\n",
        "df = df_raw"
      ]
    },
    {
      "cell_type": "markdown",
      "metadata": {
        "id": "JkfthteesM9J"
      },
      "source": [
        "# 4. Exploratory Data Analysis with Visualisation\n",
        "In this step, we would analyze the data set, learn the statistics and correlation between different features"
      ]
    },
    {
      "cell_type": "code",
      "execution_count": null,
      "metadata": {
        "colab": {
          "base_uri": "https://localhost:8080/",
          "height": 636
        },
        "id": "MWiqJs-rsLa6",
        "outputId": "d55317bd-d1c8-4863-d757-f05b5b66e2f1"
      },
      "outputs": [
        {
          "data": {
            "text/html": [
              "\n",
              "  <div id=\"df-6a4d735e-5ad2-4b9e-9ef0-8aaa050dc82a\">\n",
              "    <div class=\"colab-df-container\">\n",
              "      <div>\n",
              "<style scoped>\n",
              "    .dataframe tbody tr th:only-of-type {\n",
              "        vertical-align: middle;\n",
              "    }\n",
              "\n",
              "    .dataframe tbody tr th {\n",
              "        vertical-align: top;\n",
              "    }\n",
              "\n",
              "    .dataframe thead th {\n",
              "        text-align: right;\n",
              "    }\n",
              "</style>\n",
              "<table border=\"1\" class=\"dataframe\">\n",
              "  <thead>\n",
              "    <tr style=\"text-align: right;\">\n",
              "      <th></th>\n",
              "      <th>date</th>\n",
              "      <th>location</th>\n",
              "      <th>valid_time_gmt</th>\n",
              "      <th>month</th>\n",
              "      <th>time</th>\n",
              "      <th>(Day/Night)</th>\n",
              "      <th>temperature</th>\n",
              "      <th>condition</th>\n",
              "      <th>dewPoint</th>\n",
              "      <th>heat_index</th>\n",
              "      <th>...</th>\n",
              "      <th>wdirection</th>\n",
              "      <th>wdir_cardinal</th>\n",
              "      <th>gust</th>\n",
              "      <th>wspd</th>\n",
              "      <th>uv_desc</th>\n",
              "      <th>feels_like</th>\n",
              "      <th>uv_index</th>\n",
              "      <th>clds</th>\n",
              "      <th>rain</th>\n",
              "      <th>Rain Today</th>\n",
              "    </tr>\n",
              "  </thead>\n",
              "  <tbody>\n",
              "    <tr>\n",
              "      <th>0</th>\n",
              "      <td>20140102.0</td>\n",
              "      <td>Nagpur/Sonegaon</td>\n",
              "      <td>1.388602e+09</td>\n",
              "      <td>January</td>\n",
              "      <td>6:40 PM</td>\n",
              "      <td>N</td>\n",
              "      <td>63.0</td>\n",
              "      <td>Fair</td>\n",
              "      <td>54.0</td>\n",
              "      <td>63.0</td>\n",
              "      <td>...</td>\n",
              "      <td>350.0</td>\n",
              "      <td>N</td>\n",
              "      <td>0.0</td>\n",
              "      <td>5.0</td>\n",
              "      <td>Low</td>\n",
              "      <td>63.0</td>\n",
              "      <td>0.0</td>\n",
              "      <td>CLR</td>\n",
              "      <td>False</td>\n",
              "      <td>No</td>\n",
              "    </tr>\n",
              "    <tr>\n",
              "      <th>1</th>\n",
              "      <td>20140102.0</td>\n",
              "      <td>Nagpur/Sonegaon</td>\n",
              "      <td>1.388605e+09</td>\n",
              "      <td>January</td>\n",
              "      <td>7:40 PM</td>\n",
              "      <td>N</td>\n",
              "      <td>63.0</td>\n",
              "      <td>Fair</td>\n",
              "      <td>52.0</td>\n",
              "      <td>63.0</td>\n",
              "      <td>...</td>\n",
              "      <td>20.0</td>\n",
              "      <td>NNE</td>\n",
              "      <td>0.0</td>\n",
              "      <td>2.0</td>\n",
              "      <td>Low</td>\n",
              "      <td>63.0</td>\n",
              "      <td>0.0</td>\n",
              "      <td>CLR</td>\n",
              "      <td>False</td>\n",
              "      <td>No</td>\n",
              "    </tr>\n",
              "    <tr>\n",
              "      <th>2</th>\n",
              "      <td>20140102.0</td>\n",
              "      <td>Nagpur/Sonegaon</td>\n",
              "      <td>1.388609e+09</td>\n",
              "      <td>January</td>\n",
              "      <td>8:40 PM</td>\n",
              "      <td>N</td>\n",
              "      <td>61.0</td>\n",
              "      <td>Fair</td>\n",
              "      <td>52.0</td>\n",
              "      <td>61.0</td>\n",
              "      <td>...</td>\n",
              "      <td>NaN</td>\n",
              "      <td>CALM</td>\n",
              "      <td>0.0</td>\n",
              "      <td>NaN</td>\n",
              "      <td>Low</td>\n",
              "      <td>61.0</td>\n",
              "      <td>0.0</td>\n",
              "      <td>CLR</td>\n",
              "      <td>False</td>\n",
              "      <td>No</td>\n",
              "    </tr>\n",
              "    <tr>\n",
              "      <th>3</th>\n",
              "      <td>20140102.0</td>\n",
              "      <td>Nagpur/Sonegaon</td>\n",
              "      <td>1.388612e+09</td>\n",
              "      <td>January</td>\n",
              "      <td>9:40 PM</td>\n",
              "      <td>N</td>\n",
              "      <td>61.0</td>\n",
              "      <td>Fair</td>\n",
              "      <td>54.0</td>\n",
              "      <td>61.0</td>\n",
              "      <td>...</td>\n",
              "      <td>NaN</td>\n",
              "      <td>CALM</td>\n",
              "      <td>0.0</td>\n",
              "      <td>NaN</td>\n",
              "      <td>Low</td>\n",
              "      <td>61.0</td>\n",
              "      <td>0.0</td>\n",
              "      <td>CLR</td>\n",
              "      <td>False</td>\n",
              "      <td>No</td>\n",
              "    </tr>\n",
              "    <tr>\n",
              "      <th>4</th>\n",
              "      <td>20140102.0</td>\n",
              "      <td>Nagpur/Sonegaon</td>\n",
              "      <td>1.388616e+09</td>\n",
              "      <td>January</td>\n",
              "      <td>10:40 PM</td>\n",
              "      <td>N</td>\n",
              "      <td>55.0</td>\n",
              "      <td>Fair</td>\n",
              "      <td>50.0</td>\n",
              "      <td>55.0</td>\n",
              "      <td>...</td>\n",
              "      <td>NaN</td>\n",
              "      <td>CALM</td>\n",
              "      <td>0.0</td>\n",
              "      <td>NaN</td>\n",
              "      <td>Low</td>\n",
              "      <td>55.0</td>\n",
              "      <td>0.0</td>\n",
              "      <td>CLR</td>\n",
              "      <td>False</td>\n",
              "      <td>No</td>\n",
              "    </tr>\n",
              "    <tr>\n",
              "      <th>...</th>\n",
              "      <td>...</td>\n",
              "      <td>...</td>\n",
              "      <td>...</td>\n",
              "      <td>...</td>\n",
              "      <td>...</td>\n",
              "      <td>...</td>\n",
              "      <td>...</td>\n",
              "      <td>...</td>\n",
              "      <td>...</td>\n",
              "      <td>...</td>\n",
              "      <td>...</td>\n",
              "      <td>...</td>\n",
              "      <td>...</td>\n",
              "      <td>...</td>\n",
              "      <td>...</td>\n",
              "      <td>...</td>\n",
              "      <td>...</td>\n",
              "      <td>...</td>\n",
              "      <td>...</td>\n",
              "      <td>...</td>\n",
              "      <td>...</td>\n",
              "    </tr>\n",
              "    <tr>\n",
              "      <th>113028</th>\n",
              "      <td>20220426.0</td>\n",
              "      <td>Nagpur</td>\n",
              "      <td>1.650992e+09</td>\n",
              "      <td>April</td>\n",
              "      <td>5:00 PM</td>\n",
              "      <td>N</td>\n",
              "      <td>91.0</td>\n",
              "      <td>Haze</td>\n",
              "      <td>52.0</td>\n",
              "      <td>89.0</td>\n",
              "      <td>...</td>\n",
              "      <td>NaN</td>\n",
              "      <td>CALM</td>\n",
              "      <td>0.0</td>\n",
              "      <td>0.0</td>\n",
              "      <td>Low</td>\n",
              "      <td>89.0</td>\n",
              "      <td>0.0</td>\n",
              "      <td>SCT</td>\n",
              "      <td>False</td>\n",
              "      <td>No</td>\n",
              "    </tr>\n",
              "    <tr>\n",
              "      <th>113029</th>\n",
              "      <td>20220426.0</td>\n",
              "      <td>Nagpur</td>\n",
              "      <td>1.650994e+09</td>\n",
              "      <td>April</td>\n",
              "      <td>5:30 PM</td>\n",
              "      <td>N</td>\n",
              "      <td>90.0</td>\n",
              "      <td>Haze</td>\n",
              "      <td>50.0</td>\n",
              "      <td>87.0</td>\n",
              "      <td>...</td>\n",
              "      <td>NaN</td>\n",
              "      <td>CALM</td>\n",
              "      <td>0.0</td>\n",
              "      <td>0.0</td>\n",
              "      <td>Low</td>\n",
              "      <td>87.0</td>\n",
              "      <td>0.0</td>\n",
              "      <td>SCT</td>\n",
              "      <td>False</td>\n",
              "      <td>No</td>\n",
              "    </tr>\n",
              "    <tr>\n",
              "      <th>113030</th>\n",
              "      <td>20220426.0</td>\n",
              "      <td>Nagpur</td>\n",
              "      <td>1.650996e+09</td>\n",
              "      <td>April</td>\n",
              "      <td>6:00 PM</td>\n",
              "      <td>N</td>\n",
              "      <td>88.0</td>\n",
              "      <td>Haze</td>\n",
              "      <td>50.0</td>\n",
              "      <td>85.0</td>\n",
              "      <td>...</td>\n",
              "      <td>NaN</td>\n",
              "      <td>CALM</td>\n",
              "      <td>0.0</td>\n",
              "      <td>0.0</td>\n",
              "      <td>Low</td>\n",
              "      <td>85.0</td>\n",
              "      <td>0.0</td>\n",
              "      <td>SCT</td>\n",
              "      <td>False</td>\n",
              "      <td>No</td>\n",
              "    </tr>\n",
              "    <tr>\n",
              "      <th>113031</th>\n",
              "      <td>NaN</td>\n",
              "      <td>NaN</td>\n",
              "      <td>NaN</td>\n",
              "      <td>January</td>\n",
              "      <td>NaN</td>\n",
              "      <td>NaN</td>\n",
              "      <td>NaN</td>\n",
              "      <td>NaN</td>\n",
              "      <td>NaN</td>\n",
              "      <td>NaN</td>\n",
              "      <td>...</td>\n",
              "      <td>NaN</td>\n",
              "      <td>NaN</td>\n",
              "      <td>NaN</td>\n",
              "      <td>NaN</td>\n",
              "      <td>NaN</td>\n",
              "      <td>NaN</td>\n",
              "      <td>NaN</td>\n",
              "      <td>NaN</td>\n",
              "      <td>NaN</td>\n",
              "      <td>NaN</td>\n",
              "    </tr>\n",
              "    <tr>\n",
              "      <th>113032</th>\n",
              "      <td>NaN</td>\n",
              "      <td>NaN</td>\n",
              "      <td>NaN</td>\n",
              "      <td>January</td>\n",
              "      <td>NaN</td>\n",
              "      <td>NaN</td>\n",
              "      <td>NaN</td>\n",
              "      <td>NaN</td>\n",
              "      <td>NaN</td>\n",
              "      <td>NaN</td>\n",
              "      <td>...</td>\n",
              "      <td>NaN</td>\n",
              "      <td>NaN</td>\n",
              "      <td>NaN</td>\n",
              "      <td>NaN</td>\n",
              "      <td>NaN</td>\n",
              "      <td>NaN</td>\n",
              "      <td>NaN</td>\n",
              "      <td>NaN</td>\n",
              "      <td>NaN</td>\n",
              "      <td>NaN</td>\n",
              "    </tr>\n",
              "  </tbody>\n",
              "</table>\n",
              "<p>113033 rows × 24 columns</p>\n",
              "</div>\n",
              "      <button class=\"colab-df-convert\" onclick=\"convertToInteractive('df-6a4d735e-5ad2-4b9e-9ef0-8aaa050dc82a')\"\n",
              "              title=\"Convert this dataframe to an interactive table.\"\n",
              "              style=\"display:none;\">\n",
              "        \n",
              "  <svg xmlns=\"http://www.w3.org/2000/svg\" height=\"24px\"viewBox=\"0 0 24 24\"\n",
              "       width=\"24px\">\n",
              "    <path d=\"M0 0h24v24H0V0z\" fill=\"none\"/>\n",
              "    <path d=\"M18.56 5.44l.94 2.06.94-2.06 2.06-.94-2.06-.94-.94-2.06-.94 2.06-2.06.94zm-11 1L8.5 8.5l.94-2.06 2.06-.94-2.06-.94L8.5 2.5l-.94 2.06-2.06.94zm10 10l.94 2.06.94-2.06 2.06-.94-2.06-.94-.94-2.06-.94 2.06-2.06.94z\"/><path d=\"M17.41 7.96l-1.37-1.37c-.4-.4-.92-.59-1.43-.59-.52 0-1.04.2-1.43.59L10.3 9.45l-7.72 7.72c-.78.78-.78 2.05 0 2.83L4 21.41c.39.39.9.59 1.41.59.51 0 1.02-.2 1.41-.59l7.78-7.78 2.81-2.81c.8-.78.8-2.07 0-2.86zM5.41 20L4 18.59l7.72-7.72 1.47 1.35L5.41 20z\"/>\n",
              "  </svg>\n",
              "      </button>\n",
              "      \n",
              "  <style>\n",
              "    .colab-df-container {\n",
              "      display:flex;\n",
              "      flex-wrap:wrap;\n",
              "      gap: 12px;\n",
              "    }\n",
              "\n",
              "    .colab-df-convert {\n",
              "      background-color: #E8F0FE;\n",
              "      border: none;\n",
              "      border-radius: 50%;\n",
              "      cursor: pointer;\n",
              "      display: none;\n",
              "      fill: #1967D2;\n",
              "      height: 32px;\n",
              "      padding: 0 0 0 0;\n",
              "      width: 32px;\n",
              "    }\n",
              "\n",
              "    .colab-df-convert:hover {\n",
              "      background-color: #E2EBFA;\n",
              "      box-shadow: 0px 1px 2px rgba(60, 64, 67, 0.3), 0px 1px 3px 1px rgba(60, 64, 67, 0.15);\n",
              "      fill: #174EA6;\n",
              "    }\n",
              "\n",
              "    [theme=dark] .colab-df-convert {\n",
              "      background-color: #3B4455;\n",
              "      fill: #D2E3FC;\n",
              "    }\n",
              "\n",
              "    [theme=dark] .colab-df-convert:hover {\n",
              "      background-color: #434B5C;\n",
              "      box-shadow: 0px 1px 3px 1px rgba(0, 0, 0, 0.15);\n",
              "      filter: drop-shadow(0px 1px 2px rgba(0, 0, 0, 0.3));\n",
              "      fill: #FFFFFF;\n",
              "    }\n",
              "  </style>\n",
              "\n",
              "      <script>\n",
              "        const buttonEl =\n",
              "          document.querySelector('#df-6a4d735e-5ad2-4b9e-9ef0-8aaa050dc82a button.colab-df-convert');\n",
              "        buttonEl.style.display =\n",
              "          google.colab.kernel.accessAllowed ? 'block' : 'none';\n",
              "\n",
              "        async function convertToInteractive(key) {\n",
              "          const element = document.querySelector('#df-6a4d735e-5ad2-4b9e-9ef0-8aaa050dc82a');\n",
              "          const dataTable =\n",
              "            await google.colab.kernel.invokeFunction('convertToInteractive',\n",
              "                                                     [key], {});\n",
              "          if (!dataTable) return;\n",
              "\n",
              "          const docLinkHtml = 'Like what you see? Visit the ' +\n",
              "            '<a target=\"_blank\" href=https://colab.research.google.com/notebooks/data_table.ipynb>data table notebook</a>'\n",
              "            + ' to learn more about interactive tables.';\n",
              "          element.innerHTML = '';\n",
              "          dataTable['output_type'] = 'display_data';\n",
              "          await google.colab.output.renderOutput(dataTable, element);\n",
              "          const docLink = document.createElement('div');\n",
              "          docLink.innerHTML = docLinkHtml;\n",
              "          element.appendChild(docLink);\n",
              "        }\n",
              "      </script>\n",
              "    </div>\n",
              "  </div>\n",
              "  "
            ],
            "text/plain": [
              "              date         location  valid_time_gmt     month      time  \\\n",
              "0       20140102.0  Nagpur/Sonegaon    1.388602e+09  January    6:40 PM   \n",
              "1       20140102.0  Nagpur/Sonegaon    1.388605e+09  January    7:40 PM   \n",
              "2       20140102.0  Nagpur/Sonegaon    1.388609e+09  January    8:40 PM   \n",
              "3       20140102.0  Nagpur/Sonegaon    1.388612e+09  January    9:40 PM   \n",
              "4       20140102.0  Nagpur/Sonegaon    1.388616e+09  January   10:40 PM   \n",
              "...            ...              ...             ...       ...       ...   \n",
              "113028  20220426.0           Nagpur    1.650992e+09    April    5:00 PM   \n",
              "113029  20220426.0           Nagpur    1.650994e+09    April    5:30 PM   \n",
              "113030  20220426.0           Nagpur    1.650996e+09    April    6:00 PM   \n",
              "113031         NaN              NaN             NaN  January        NaN   \n",
              "113032         NaN              NaN             NaN  January        NaN   \n",
              "\n",
              "       (Day/Night)  temperature condition  dewPoint  heat_index  ...  \\\n",
              "0                N         63.0      Fair      54.0        63.0  ...   \n",
              "1                N         63.0      Fair      52.0        63.0  ...   \n",
              "2                N         61.0      Fair      52.0        61.0  ...   \n",
              "3                N         61.0      Fair      54.0        61.0  ...   \n",
              "4                N         55.0      Fair      50.0        55.0  ...   \n",
              "...            ...          ...       ...       ...         ...  ...   \n",
              "113028           N         91.0      Haze      52.0        89.0  ...   \n",
              "113029           N         90.0      Haze      50.0        87.0  ...   \n",
              "113030           N         88.0      Haze      50.0        85.0  ...   \n",
              "113031         NaN          NaN       NaN       NaN         NaN  ...   \n",
              "113032         NaN          NaN       NaN       NaN         NaN  ...   \n",
              "\n",
              "        wdirection  wdir_cardinal  gust  wspd  uv_desc feels_like  uv_index  \\\n",
              "0            350.0              N   0.0   5.0      Low       63.0       0.0   \n",
              "1             20.0            NNE   0.0   2.0      Low       63.0       0.0   \n",
              "2              NaN           CALM   0.0   NaN      Low       61.0       0.0   \n",
              "3              NaN           CALM   0.0   NaN      Low       61.0       0.0   \n",
              "4              NaN           CALM   0.0   NaN      Low       55.0       0.0   \n",
              "...            ...            ...   ...   ...      ...        ...       ...   \n",
              "113028         NaN           CALM   0.0   0.0      Low       89.0       0.0   \n",
              "113029         NaN           CALM   0.0   0.0      Low       87.0       0.0   \n",
              "113030         NaN           CALM   0.0   0.0      Low       85.0       0.0   \n",
              "113031         NaN            NaN   NaN   NaN      NaN        NaN       NaN   \n",
              "113032         NaN            NaN   NaN   NaN      NaN        NaN       NaN   \n",
              "\n",
              "        clds   rain  Rain Today  \n",
              "0        CLR  False          No  \n",
              "1        CLR  False          No  \n",
              "2        CLR  False          No  \n",
              "3        CLR  False          No  \n",
              "4        CLR  False          No  \n",
              "...      ...    ...         ...  \n",
              "113028   SCT  False          No  \n",
              "113029   SCT  False          No  \n",
              "113030   SCT  False          No  \n",
              "113031   NaN    NaN         NaN  \n",
              "113032   NaN    NaN         NaN  \n",
              "\n",
              "[113033 rows x 24 columns]"
            ]
          },
          "execution_count": 44,
          "metadata": {},
          "output_type": "execute_result"
        }
      ],
      "source": [
        "df_raw"
      ]
    },
    {
      "cell_type": "markdown",
      "metadata": {
        "id": "5ggL1KIfsTRu"
      },
      "source": [
        ""
      ]
    },
    {
      "cell_type": "code",
      "execution_count": null,
      "metadata": {
        "colab": {
          "base_uri": "https://localhost:8080/"
        },
        "id": "437cymtUw0vz",
        "outputId": "64b6031d-a6aa-46d0-842e-c0507904e6ab"
      },
      "outputs": [
        {
          "data": {
            "text/plain": [
              "(113033, 24)"
            ]
          },
          "execution_count": 45,
          "metadata": {},
          "output_type": "execute_result"
        }
      ],
      "source": [
        "df_raw.shape"
      ]
    },
    {
      "cell_type": "code",
      "execution_count": null,
      "metadata": {
        "colab": {
          "base_uri": "https://localhost:8080/"
        },
        "id": "sYS2DhuZsUPp",
        "outputId": "9924af65-21f9-4b02-926b-93d6dbabd051"
      },
      "outputs": [
        {
          "name": "stdout",
          "output_type": "stream",
          "text": [
            "<class 'pandas.core.frame.DataFrame'>\n",
            "RangeIndex: 113033 entries, 0 to 113032\n",
            "Data columns (total 24 columns):\n",
            " #   Column          Non-Null Count   Dtype  \n",
            "---  ------          --------------   -----  \n",
            " 0   date            113031 non-null  float64\n",
            " 1   location        113031 non-null  object \n",
            " 2   valid_time_gmt  113031 non-null  float64\n",
            " 3   month           113033 non-null  object \n",
            " 4   time            113031 non-null  object \n",
            " 5   (Day/Night)     113031 non-null  object \n",
            " 6   temperature     112852 non-null  float64\n",
            " 7   condition       113031 non-null  object \n",
            " 8   dewPoint        112849 non-null  float64\n",
            " 9   heat_index      112814 non-null  float64\n",
            " 10  humidity %      112814 non-null  float64\n",
            " 11  pressure        112714 non-null  float64\n",
            " 12  visibility      113031 non-null  float64\n",
            " 13  windchill       112441 non-null  float64\n",
            " 14  wdirection      86008 non-null   float64\n",
            " 15  wdir_cardinal   112603 non-null  object \n",
            " 16  gust            113031 non-null  float64\n",
            " 17  wspd            111967 non-null  float64\n",
            " 18  uv_desc         112316 non-null  object \n",
            " 19  feels_like      112834 non-null  float64\n",
            " 20  uv_index        113003 non-null  float64\n",
            " 21  clds            113031 non-null  object \n",
            " 22  rain            113031 non-null  object \n",
            " 23  Rain Today      113031 non-null  object \n",
            "dtypes: float64(14), object(10)\n",
            "memory usage: 20.7+ MB\n"
          ]
        }
      ],
      "source": [
        "df_raw.info()"
      ]
    },
    {
      "cell_type": "code",
      "execution_count": null,
      "metadata": {
        "id": "c_o1lfo0hc2r"
      },
      "outputs": [],
      "source": [
        ""
      ]
    },
    {
      "cell_type": "code",
      "execution_count": null,
      "metadata": {
        "colab": {
          "base_uri": "https://localhost:8080/"
        },
        "id": "N9Ls5qZQ9725",
        "outputId": "a0864f62-45c2-45af-e29b-f354afa8b247"
      },
      "outputs": [
        {
          "data": {
            "text/plain": [
              "0          No\n",
              "1          No\n",
              "2          No\n",
              "3          No\n",
              "4          No\n",
              "         ... \n",
              "113028     No\n",
              "113029     No\n",
              "113030     No\n",
              "113031    NaN\n",
              "113032    NaN\n",
              "Name: Rain Today, Length: 113033, dtype: object"
            ]
          },
          "execution_count": 47,
          "metadata": {},
          "output_type": "execute_result"
        }
      ],
      "source": [
        "df['Rain Today']"
      ]
    },
    {
      "cell_type": "code",
      "execution_count": null,
      "metadata": {
        "colab": {
          "base_uri": "https://localhost:8080/",
          "height": 296
        },
        "id": "I0sB_9Qthf8r",
        "outputId": "9b21c064-59ee-4362-db65-707705876083"
      },
      "outputs": [
        {
          "data": {
            "text/plain": [
              "<matplotlib.axes._subplots.AxesSubplot at 0x7fdc866f4690>"
            ]
          },
          "execution_count": 48,
          "metadata": {},
          "output_type": "execute_result"
        },
        {
          "data": {
            "image/png": "[encoded data removed]",
            "text/plain": [
              "<Figure size 432x288 with 1 Axes>"
            ]
          },
          "metadata": {},
          "output_type": "display_data"
        }
      ],
      "source": [
        "sns.countplot(x ='month', hue = \"Rain Today\", data = df)\n",
        " "
      ]
    },
    {
      "cell_type": "code",
      "execution_count": null,
      "metadata": {
        "colab": {
          "base_uri": "https://localhost:8080/",
          "height": 296
        },
        "id": "23V1gpraiLj0",
        "outputId": "d237e989-f373-451d-ba72-63924f190878"
      },
      "outputs": [
        {
          "data": {
            "text/plain": [
              "<matplotlib.axes._subplots.AxesSubplot at 0x7fdc8666a890>"
            ]
          },
          "execution_count": 49,
          "metadata": {},
          "output_type": "execute_result"
        },
        {
          "data": {
            "image/png": "[encoded data removed]",
            "text/plain": [
              "<Figure size 432x288 with 1 Axes>"
            ]
          },
          "metadata": {},
          "output_type": "display_data"
        }
      ],
      "source": [
        "sns.countplot('Rain Today',data=df)"
      ]
    },
    {
      "cell_type": "markdown",
      "metadata": {
        "id": "iA05Fge8sdvl"
      },
      "source": [
        "\n",
        "Lets look at the basic statistics of the data\n",
        "\n",
        "\n",
        "\n"
      ]
    },
    {
      "cell_type": "code",
      "execution_count": null,
      "metadata": {
        "colab": {
          "base_uri": "https://localhost:8080/",
          "height": 361
        },
        "id": "qVHNkXibsetB",
        "outputId": "47bf3436-7eed-4c79-a3c0-86e988ca7a32"
      },
      "outputs": [
        {
          "data": {
            "text/html": [
              "\n",
              "  <div id=\"df-665256ad-e33b-4be8-84f8-7e6de34fac32\">\n",
              "    <div class=\"colab-df-container\">\n",
              "      <div>\n",
              "<style scoped>\n",
              "    .dataframe tbody tr th:only-of-type {\n",
              "        vertical-align: middle;\n",
              "    }\n",
              "\n",
              "    .dataframe tbody tr th {\n",
              "        vertical-align: top;\n",
              "    }\n",
              "\n",
              "    .dataframe thead th {\n",
              "        text-align: right;\n",
              "    }\n",
              "</style>\n",
              "<table border=\"1\" class=\"dataframe\">\n",
              "  <thead>\n",
              "    <tr style=\"text-align: right;\">\n",
              "      <th></th>\n",
              "      <th>date</th>\n",
              "      <th>valid_time_gmt</th>\n",
              "      <th>temperature</th>\n",
              "      <th>dewPoint</th>\n",
              "      <th>heat_index</th>\n",
              "      <th>humidity %</th>\n",
              "      <th>pressure</th>\n",
              "      <th>visibility</th>\n",
              "      <th>windchill</th>\n",
              "      <th>wdirection</th>\n",
              "      <th>gust</th>\n",
              "      <th>wspd</th>\n",
              "      <th>feels_like</th>\n",
              "      <th>uv_index</th>\n",
              "    </tr>\n",
              "  </thead>\n",
              "  <tbody>\n",
              "    <tr>\n",
              "      <th>count</th>\n",
              "      <td>1.130310e+05</td>\n",
              "      <td>1.130310e+05</td>\n",
              "      <td>112852.000000</td>\n",
              "      <td>112849.000000</td>\n",
              "      <td>112814.000000</td>\n",
              "      <td>112814.000000</td>\n",
              "      <td>112714.000000</td>\n",
              "      <td>113031.000000</td>\n",
              "      <td>112441.000000</td>\n",
              "      <td>86008.000000</td>\n",
              "      <td>113031.000000</td>\n",
              "      <td>111967.000000</td>\n",
              "      <td>112834.000000</td>\n",
              "      <td>113003.000000</td>\n",
              "    </tr>\n",
              "    <tr>\n",
              "      <th>mean</th>\n",
              "      <td>2.017861e+07</td>\n",
              "      <td>1.522532e+09</td>\n",
              "      <td>82.239881</td>\n",
              "      <td>62.290326</td>\n",
              "      <td>84.214202</td>\n",
              "      <td>57.732391</td>\n",
              "      <td>28.721798</td>\n",
              "      <td>1.837339</td>\n",
              "      <td>82.246165</td>\n",
              "      <td>195.807657</td>\n",
              "      <td>0.121144</td>\n",
              "      <td>3.987389</td>\n",
              "      <td>84.210743</td>\n",
              "      <td>1.399237</td>\n",
              "    </tr>\n",
              "    <tr>\n",
              "      <th>std</th>\n",
              "      <td>2.331687e+04</td>\n",
              "      <td>7.337235e+07</td>\n",
              "      <td>11.308303</td>\n",
              "      <td>11.925127</td>\n",
              "      <td>12.395541</td>\n",
              "      <td>25.597053</td>\n",
              "      <td>0.176265</td>\n",
              "      <td>0.878892</td>\n",
              "      <td>11.310467</td>\n",
              "      <td>107.766269</td>\n",
              "      <td>1.713177</td>\n",
              "      <td>5.032238</td>\n",
              "      <td>12.397733</td>\n",
              "      <td>14.445843</td>\n",
              "    </tr>\n",
              "    <tr>\n",
              "      <th>min</th>\n",
              "      <td>2.014010e+07</td>\n",
              "      <td>1.388515e+09</td>\n",
              "      <td>37.000000</td>\n",
              "      <td>16.000000</td>\n",
              "      <td>43.000000</td>\n",
              "      <td>2.000000</td>\n",
              "      <td>0.090000</td>\n",
              "      <td>0.000000</td>\n",
              "      <td>33.000000</td>\n",
              "      <td>3.000000</td>\n",
              "      <td>0.000000</td>\n",
              "      <td>0.000000</td>\n",
              "      <td>33.000000</td>\n",
              "      <td>-507.000000</td>\n",
              "    </tr>\n",
              "    <tr>\n",
              "      <th>25%</th>\n",
              "      <td>2.016043e+07</td>\n",
              "      <td>1.461974e+09</td>\n",
              "      <td>75.000000</td>\n",
              "      <td>54.000000</td>\n",
              "      <td>75.000000</td>\n",
              "      <td>36.000000</td>\n",
              "      <td>28.600000</td>\n",
              "      <td>1.000000</td>\n",
              "      <td>75.000000</td>\n",
              "      <td>90.000000</td>\n",
              "      <td>0.000000</td>\n",
              "      <td>2.000000</td>\n",
              "      <td>75.000000</td>\n",
              "      <td>0.000000</td>\n",
              "    </tr>\n",
              "    <tr>\n",
              "      <th>50%</th>\n",
              "      <td>2.018042e+07</td>\n",
              "      <td>1.524123e+09</td>\n",
              "      <td>81.000000</td>\n",
              "      <td>63.000000</td>\n",
              "      <td>83.000000</td>\n",
              "      <td>59.000000</td>\n",
              "      <td>28.720000</td>\n",
              "      <td>2.000000</td>\n",
              "      <td>81.000000</td>\n",
              "      <td>220.000000</td>\n",
              "      <td>0.000000</td>\n",
              "      <td>3.000000</td>\n",
              "      <td>83.000000</td>\n",
              "      <td>0.000000</td>\n",
              "    </tr>\n",
              "    <tr>\n",
              "      <th>75%</th>\n",
              "      <td>2.020030e+07</td>\n",
              "      <td>1.583265e+09</td>\n",
              "      <td>90.000000</td>\n",
              "      <td>73.000000</td>\n",
              "      <td>93.000000</td>\n",
              "      <td>79.000000</td>\n",
              "      <td>28.860000</td>\n",
              "      <td>3.000000</td>\n",
              "      <td>90.000000</td>\n",
              "      <td>290.000000</td>\n",
              "      <td>0.000000</td>\n",
              "      <td>6.000000</td>\n",
              "      <td>93.000000</td>\n",
              "      <td>4.000000</td>\n",
              "    </tr>\n",
              "    <tr>\n",
              "      <th>max</th>\n",
              "      <td>2.022043e+07</td>\n",
              "      <td>1.650996e+09</td>\n",
              "      <td>207.000000</td>\n",
              "      <td>104.000000</td>\n",
              "      <td>184.000000</td>\n",
              "      <td>100.000000</td>\n",
              "      <td>29.710000</td>\n",
              "      <td>6.000000</td>\n",
              "      <td>207.000000</td>\n",
              "      <td>390.000000</td>\n",
              "      <td>40.000000</td>\n",
              "      <td>725.000000</td>\n",
              "      <td>184.000000</td>\n",
              "      <td>14.000000</td>\n",
              "    </tr>\n",
              "  </tbody>\n",
              "</table>\n",
              "</div>\n",
              "      <button class=\"colab-df-convert\" onclick=\"convertToInteractive('df-665256ad-e33b-4be8-84f8-7e6de34fac32')\"\n",
              "              title=\"Convert this dataframe to an interactive table.\"\n",
              "              style=\"display:none;\">\n",
              "        \n",
              "  <svg xmlns=\"http://www.w3.org/2000/svg\" height=\"24px\"viewBox=\"0 0 24 24\"\n",
              "       width=\"24px\">\n",
              "    <path d=\"M0 0h24v24H0V0z\" fill=\"none\"/>\n",
              "    <path d=\"M18.56 5.44l.94 2.06.94-2.06 2.06-.94-2.06-.94-.94-2.06-.94 2.06-2.06.94zm-11 1L8.5 8.5l.94-2.06 2.06-.94-2.06-.94L8.5 2.5l-.94 2.06-2.06.94zm10 10l.94 2.06.94-2.06 2.06-.94-2.06-.94-.94-2.06-.94 2.06-2.06.94z\"/><path d=\"M17.41 7.96l-1.37-1.37c-.4-.4-.92-.59-1.43-.59-.52 0-1.04.2-1.43.59L10.3 9.45l-7.72 7.72c-.78.78-.78 2.05 0 2.83L4 21.41c.39.39.9.59 1.41.59.51 0 1.02-.2 1.41-.59l7.78-7.78 2.81-2.81c.8-.78.8-2.07 0-2.86zM5.41 20L4 18.59l7.72-7.72 1.47 1.35L5.41 20z\"/>\n",
              "  </svg>\n",
              "      </button>\n",
              "      \n",
              "  <style>\n",
              "    .colab-df-container {\n",
              "      display:flex;\n",
              "      flex-wrap:wrap;\n",
              "      gap: 12px;\n",
              "    }\n",
              "\n",
              "    .colab-df-convert {\n",
              "      background-color: #E8F0FE;\n",
              "      border: none;\n",
              "      border-radius: 50%;\n",
              "      cursor: pointer;\n",
              "      display: none;\n",
              "      fill: #1967D2;\n",
              "      height: 32px;\n",
              "      padding: 0 0 0 0;\n",
              "      width: 32px;\n",
              "    }\n",
              "\n",
              "    .colab-df-convert:hover {\n",
              "      background-color: #E2EBFA;\n",
              "      box-shadow: 0px 1px 2px rgba(60, 64, 67, 0.3), 0px 1px 3px 1px rgba(60, 64, 67, 0.15);\n",
              "      fill: #174EA6;\n",
              "    }\n",
              "\n",
              "    [theme=dark] .colab-df-convert {\n",
              "      background-color: #3B4455;\n",
              "      fill: #D2E3FC;\n",
              "    }\n",
              "\n",
              "    [theme=dark] .colab-df-convert:hover {\n",
              "      background-color: #434B5C;\n",
              "      box-shadow: 0px 1px 3px 1px rgba(0, 0, 0, 0.15);\n",
              "      filter: drop-shadow(0px 1px 2px rgba(0, 0, 0, 0.3));\n",
              "      fill: #FFFFFF;\n",
              "    }\n",
              "  </style>\n",
              "\n",
              "      <script>\n",
              "        const buttonEl =\n",
              "          document.querySelector('#df-665256ad-e33b-4be8-84f8-7e6de34fac32 button.colab-df-convert');\n",
              "        buttonEl.style.display =\n",
              "          google.colab.kernel.accessAllowed ? 'block' : 'none';\n",
              "\n",
              "        async function convertToInteractive(key) {\n",
              "          const element = document.querySelector('#df-665256ad-e33b-4be8-84f8-7e6de34fac32');\n",
              "          const dataTable =\n",
              "            await google.colab.kernel.invokeFunction('convertToInteractive',\n",
              "                                                     [key], {});\n",
              "          if (!dataTable) return;\n",
              "\n",
              "          const docLinkHtml = 'Like what you see? Visit the ' +\n",
              "            '<a target=\"_blank\" href=https://colab.research.google.com/notebooks/data_table.ipynb>data table notebook</a>'\n",
              "            + ' to learn more about interactive tables.';\n",
              "          element.innerHTML = '';\n",
              "          dataTable['output_type'] = 'display_data';\n",
              "          await google.colab.output.renderOutput(dataTable, element);\n",
              "          const docLink = document.createElement('div');\n",
              "          docLink.innerHTML = docLinkHtml;\n",
              "          element.appendChild(docLink);\n",
              "        }\n",
              "      </script>\n",
              "    </div>\n",
              "  </div>\n",
              "  "
            ],
            "text/plain": [
              "               date  valid_time_gmt    temperature       dewPoint  \\\n",
              "count  1.130310e+05    1.130310e+05  112852.000000  112849.000000   \n",
              "mean   2.017861e+07    1.522532e+09      82.239881      62.290326   \n",
              "std    2.331687e+04    7.337235e+07      11.308303      11.925127   \n",
              "min    2.014010e+07    1.388515e+09      37.000000      16.000000   \n",
              "25%    2.016043e+07    1.461974e+09      75.000000      54.000000   \n",
              "50%    2.018042e+07    1.524123e+09      81.000000      63.000000   \n",
              "75%    2.020030e+07    1.583265e+09      90.000000      73.000000   \n",
              "max    2.022043e+07    1.650996e+09     207.000000     104.000000   \n",
              "\n",
              "          heat_index     humidity %       pressure     visibility  \\\n",
              "count  112814.000000  112814.000000  112714.000000  113031.000000   \n",
              "mean       84.214202      57.732391      28.721798       1.837339   \n",
              "std        12.395541      25.597053       0.176265       0.878892   \n",
              "min        43.000000       2.000000       0.090000       0.000000   \n",
              "25%        75.000000      36.000000      28.600000       1.000000   \n",
              "50%        83.000000      59.000000      28.720000       2.000000   \n",
              "75%        93.000000      79.000000      28.860000       3.000000   \n",
              "max       184.000000     100.000000      29.710000       6.000000   \n",
              "\n",
              "           windchill    wdirection           gust           wspd  \\\n",
              "count  112441.000000  86008.000000  113031.000000  111967.000000   \n",
              "mean       82.246165    195.807657       0.121144       3.987389   \n",
              "std        11.310467    107.766269       1.713177       5.032238   \n",
              "min        33.000000      3.000000       0.000000       0.000000   \n",
              "25%        75.000000     90.000000       0.000000       2.000000   \n",
              "50%        81.000000    220.000000       0.000000       3.000000   \n",
              "75%        90.000000    290.000000       0.000000       6.000000   \n",
              "max       207.000000    390.000000      40.000000     725.000000   \n",
              "\n",
              "          feels_like       uv_index  \n",
              "count  112834.000000  113003.000000  \n",
              "mean       84.210743       1.399237  \n",
              "std        12.397733      14.445843  \n",
              "min        33.000000    -507.000000  \n",
              "25%        75.000000       0.000000  \n",
              "50%        83.000000       0.000000  \n",
              "75%        93.000000       4.000000  \n",
              "max       184.000000      14.000000  "
            ]
          },
          "execution_count": 50,
          "metadata": {},
          "output_type": "execute_result"
        }
      ],
      "source": [
        "df_raw.describe()"
      ]
    },
    {
      "cell_type": "code",
      "execution_count": null,
      "metadata": {
        "colab": {
          "base_uri": "https://localhost:8080/"
        },
        "id": "KmKmDGo8sijm",
        "outputId": "e28e1fed-56c0-4c89-8daf-7f1c088e89bc"
      },
      "outputs": [
        {
          "data": {
            "text/plain": [
              "2712792"
            ]
          },
          "execution_count": 51,
          "metadata": {},
          "output_type": "execute_result"
        }
      ],
      "source": [
        "#size of data... there are 3.345.580 of elements\n",
        "df_raw.size"
      ]
    },
    {
      "cell_type": "code",
      "execution_count": null,
      "metadata": {
        "colab": {
          "base_uri": "https://localhost:8080/"
        },
        "id": "FMUS7Yb3sk5F",
        "outputId": "011f02f2-2c2c-43ae-c8f6-dfd6a3ed295a"
      },
      "outputs": [
        {
          "data": {
            "text/plain": [
              "Index(['date', 'location', 'valid_time_gmt', 'month', 'time', '(Day/Night)',\n",
              "       'temperature', 'condition', 'dewPoint', 'heat_index', 'humidity %',\n",
              "       'pressure', 'visibility', 'windchill', 'wdirection', 'wdir_cardinal',\n",
              "       'gust', 'wspd', 'uv_desc', 'feels_like', 'uv_index', 'clds', 'rain',\n",
              "       'Rain Today'],\n",
              "      dtype='object')"
            ]
          },
          "execution_count": 52,
          "metadata": {},
          "output_type": "execute_result"
        }
      ],
      "source": [
        "# Identification all column listed\n",
        "df_raw.columns"
      ]
    },
    {
      "cell_type": "markdown",
      "metadata": {
        "id": "wyrTA-w4snlw"
      },
      "source": [
        "**Identify Data Categorical values**"
      ]
    },
    {
      "cell_type": "code",
      "execution_count": null,
      "metadata": {
        "id": "BPMo03ejsoka"
      },
      "outputs": [],
      "source": [
        "# Checking data categorical\n",
        "# print(\"location :\", df_raw['Location'].unique())\n",
        "# print(\"WindGustDir :\", df_raw['WindGustDir'].unique())\n",
        "# print(\"WindDir9am :\", df_raw['WindDir9am'].unique())\n",
        "# print(\"WindDir3pm :\", df_raw['WindDir3pm'].unique())\n",
        "# print(\"RainToday :\", df_raw['RainToday'].unique())\n",
        "# print(\"RainTomorrow :\", df_raw['RainTomorrow'].unique())"
      ]
    },
    {
      "cell_type": "code",
      "execution_count": null,
      "metadata": {
        "id": "UUTsWKS0svWT"
      },
      "outputs": [],
      "source": [
        "# Checking the label counts data categorical\n",
        "# print(\"location :\", df_raw['Location'].value_counts())\n",
        "# print(\"WindGustDir :\", df_raw['WindGustDir'].value_counts())\n",
        "# print(\"WindDir9am :\", df_raw['WindDir9am'].value_counts())\n",
        "# print(\"WindDir3pm :\", df_raw['WindDir3pm'].value_counts())\n",
        "# print(\"RainToday :\", df_raw['RainToday'].value_counts())\n",
        "# print(\"RainTomorrow :\", df_raw['RainTomorrow'].value_counts())"
      ]
    },
    {
      "cell_type": "markdown",
      "metadata": {
        "id": "siMj2OdGCABq"
      },
      "source": [
        "Dealing with invalid dataset"
      ]
    },
    {
      "cell_type": "code",
      "execution_count": null,
      "metadata": {
        "colab": {
          "base_uri": "https://localhost:8080/"
        },
        "id": "mt4r4C2XuIAl",
        "outputId": "49e9b742-9f69-4bb0-e87a-6fab71f4d070"
      },
      "outputs": [
        {
          "data": {
            "text/plain": [
              "(113033, 1)"
            ]
          },
          "execution_count": 55,
          "metadata": {},
          "output_type": "execute_result"
        }
      ],
      "source": [
        "x=df.iloc[:,[5,6,7,8,9,10,11,12,13,14,15,16,17,18,19,20,21]].values\n",
        "y=df.iloc[:,-1].values.reshape(-1,1) #slicing genrates new list\n",
        "y.shape"
      ]
    },
    {
      "cell_type": "code",
      "execution_count": null,
      "metadata": {
        "colab": {
          "base_uri": "https://localhost:8080/"
        },
        "id": "Ye65B_OBuJgM",
        "outputId": "d37907d8-2bab-484e-8432-c2de39320438"
      },
      "outputs": [
        {
          "data": {
            "text/plain": [
              "(array([['N', 63.0, 'Fair', ..., 63.0, 0.0, 'CLR'],\n",
              "        ['N', 63.0, 'Fair', ..., 63.0, 0.0, 'CLR'],\n",
              "        ['N', 61.0, 'Fair', ..., 61.0, 0.0, 'CLR'],\n",
              "        ...,\n",
              "        ['N', 88.0, 'Haze', ..., 85.0, 0.0, 'SCT'],\n",
              "        [nan, nan, nan, ..., nan, nan, nan],\n",
              "        [nan, nan, nan, ..., nan, nan, nan]], dtype=object), array([['No'],\n",
              "        ['No'],\n",
              "        ['No'],\n",
              "        ...,\n",
              "        ['No'],\n",
              "        [nan],\n",
              "        [nan]], dtype=object))"
            ]
          },
          "execution_count": 56,
          "metadata": {},
          "output_type": "execute_result"
        }
      ],
      "source": [
        "x,y"
      ]
    },
    {
      "cell_type": "markdown",
      "metadata": {
        "id": "-TU02oFOubH2"
      },
      "source": [
        "#### Dealing with invalid dataset"
      ]
    },
    {
      "cell_type": "code",
      "execution_count": null,
      "metadata": {
        "id": "zOEpRSbZuliw"
      },
      "outputs": [],
      "source": [
        "from sklearn.impute import SimpleImputer\n",
        "imputer=SimpleImputer(missing_values=np.nan,strategy='most_frequent')\n",
        "x=imputer.fit_transform(x)\n",
        "y=imputer.fit_transform(y)"
      ]
    },
    {
      "cell_type": "code",
      "execution_count": null,
      "metadata": {
        "colab": {
          "base_uri": "https://localhost:8080/"
        },
        "id": "vmufcnL4u6Ey",
        "outputId": "629bb543-ed09-4e8e-f43c-4746899bbd19"
      },
      "outputs": [
        {
          "data": {
            "text/plain": [
              "array([['N', 63.0, 'Fair', ..., 63.0, 0.0, 'CLR'],\n",
              "       ['N', 63.0, 'Fair', ..., 63.0, 0.0, 'CLR'],\n",
              "       ['N', 61.0, 'Fair', ..., 61.0, 0.0, 'CLR'],\n",
              "       ...,\n",
              "       ['N', 88.0, 'Haze', ..., 85.0, 0.0, 'SCT'],\n",
              "       ['D', 77.0, 'Haze', ..., 78.0, 0.0, 'CLR'],\n",
              "       ['D', 77.0, 'Haze', ..., 78.0, 0.0, 'CLR']], dtype=object)"
            ]
          },
          "execution_count": 58,
          "metadata": {},
          "output_type": "execute_result"
        }
      ],
      "source": [
        "x"
      ]
    },
    {
      "cell_type": "code",
      "execution_count": null,
      "metadata": {
        "colab": {
          "base_uri": "https://localhost:8080/"
        },
        "id": "wu_4-AgXu6-n",
        "outputId": "f6fd364b-45d0-4c4f-d589-283a7000f126"
      },
      "outputs": [
        {
          "data": {
            "text/plain": [
              "array([['No'],\n",
              "       ['No'],\n",
              "       ['No'],\n",
              "       ...,\n",
              "       ['No'],\n",
              "       ['No'],\n",
              "       ['No']], dtype=object)"
            ]
          },
          "execution_count": 59,
          "metadata": {},
          "output_type": "execute_result"
        }
      ],
      "source": [
        "y"
      ]
    },
    {
      "cell_type": "code",
      "execution_count": null,
      "metadata": {
        "id": "waGHjTRuu7eB"
      },
      "outputs": [],
      "source": [
        "from sklearn.preprocessing import LabelEncoder\n",
        "le1=LabelEncoder()\n",
        "x[:,0]=le1.fit_transform(x[:,0])\n",
        "le2=LabelEncoder()\n",
        "x[:,2]=le2.fit_transform(x[:,2])\n",
        "le3=LabelEncoder()\n",
        "x[:,10]=le3.fit_transform(x[:,10])\n",
        "le4=LabelEncoder()\n",
        "x[:,13]=le4.fit_transform(x[:,13])\n",
        "le5=LabelEncoder()\n",
        "x[:,16]=le5.fit_transform(x[:,16])\n",
        "le6=LabelEncoder()\n",
        "y=le6.fit_transform(y)"
      ]
    },
    {
      "cell_type": "code",
      "execution_count": null,
      "metadata": {
        "colab": {
          "base_uri": "https://localhost:8080/"
        },
        "id": "862ApkQdvJzN",
        "outputId": "4c3cfdf4-8a7e-416b-e6a6-45402a799ded"
      },
      "outputs": [
        {
          "data": {
            "text/plain": [
              "(array([[1, 63.0, 5, ..., 63.0, 0.0, 1],\n",
              "        [1, 63.0, 5, ..., 63.0, 0.0, 1],\n",
              "        [1, 61.0, 5, ..., 61.0, 0.0, 1],\n",
              "        ...,\n",
              "        [1, 88.0, 8, ..., 85.0, 0.0, 4],\n",
              "        [0, 77.0, 8, ..., 78.0, 0.0, 1],\n",
              "        [0, 77.0, 8, ..., 78.0, 0.0, 1]], dtype=object),\n",
              " array([0, 0, 0, ..., 0, 0, 0]))"
            ]
          },
          "execution_count": 61,
          "metadata": {},
          "output_type": "execute_result"
        }
      ],
      "source": [
        "x,y"
      ]
    },
    {
      "cell_type": "code",
      "execution_count": null,
      "metadata": {
        "id": "YG0u3Z7dvPvM"
      },
      "outputs": [],
      "source": [
        "from sklearn.preprocessing import StandardScaler\n",
        "sc=StandardScaler()\n",
        "x=sc.fit_transform(x)"
      ]
    },
    {
      "cell_type": "markdown",
      "metadata": {
        "id": "aLlGzZ1MCDEd"
      },
      "source": [
        "Splitting data"
      ]
    },
    {
      "cell_type": "code",
      "execution_count": null,
      "metadata": {
        "id": "0q4-CwOyvQTX"
      },
      "outputs": [],
      "source": [
        "from sklearn.model_selection import train_test_split\n",
        "x_train,x_test,y_train,y_test=train_test_split(x,y,test_size=0.2,random_state=0)"
      ]
    },
    {
      "cell_type": "code",
      "execution_count": null,
      "metadata": {
        "colab": {
          "base_uri": "https://localhost:8080/"
        },
        "id": "3ZasapODvXMS",
        "outputId": "2e5bdb44-ffa8-4b6f-f859-e0e1b936d88d"
      },
      "outputs": [
        {
          "data": {
            "text/plain": [
              "(array([[-0.88979141, -1.25929707, -0.23494087, ..., -1.30754379,\n",
              "         -0.09684834, -0.51676899],\n",
              "        [ 1.12385891, -0.90535041, -0.23494087, ..., -0.98468966,\n",
              "         -0.09684834, -0.51676899],\n",
              "        [ 1.12385891, -0.10897044, -0.23494087, ..., -0.01612728,\n",
              "         -0.09684834,  1.51304472],\n",
              "        ...,\n",
              "        [ 1.12385891,  0.15648956, -0.23494087, ..., -0.01612728,\n",
              "         -0.09684834,  0.15983558],\n",
              "        [ 1.12385891,  0.68740954, -0.23494087, ...,  0.87172157,\n",
              "         -0.09684834,  1.51304472],\n",
              "        [ 1.12385891, -0.90535041, -0.23494087, ..., -0.98468966,\n",
              "         -0.09684834,  1.51304472]]),\n",
              " array([0, 0, 0, ..., 0, 0, 0]),\n",
              " array([[-0.88979141,  0.51043622, -0.23494087, ...,  0.9524351 ,\n",
              "          0.45701947,  1.51304472],\n",
              "        [ 1.12385891, -0.28594376, -0.5010871 , ..., -0.09684081,\n",
              "         -0.09684834, -1.19337356],\n",
              "        [-0.88979141,  0.77589621, -0.23494087, ...,  0.79100803,\n",
              "          0.18008556,  1.51304472],\n",
              "        ...,\n",
              "        [ 1.12385891, -0.28594376, -0.23494087, ..., -0.09684081,\n",
              "         -0.09684834, -1.19337356],\n",
              "        [-0.88979141, -0.46291709, -0.23494087, ..., -0.50040847,\n",
              "         -0.02761487, -1.19337356],\n",
              "        [-0.88979141, -0.02048377, -0.23494087, ..., -0.25826788,\n",
              "          0.18008556, -1.19337356]]),\n",
              " array([0, 0, 0, ..., 0, 0, 0]))"
            ]
          },
          "execution_count": 64,
          "metadata": {},
          "output_type": "execute_result"
        }
      ],
      "source": [
        "x_train,y_train,x_test,y_test"
      ]
    },
    {
      "cell_type": "markdown",
      "metadata": {
        "id": "230tnM-NCISE"
      },
      "source": [
        "**Models**\n",
        "\n",
        "\n",
        "\n"
      ]
    },
    {
      "cell_type": "markdown",
      "metadata": {
        "id": "CYcM6IfDCRTv"
      },
      "source": [
        "1.Random Forest"
      ]
    },
    {
      "cell_type": "code",
      "execution_count": null,
      "metadata": {
        "id": "liy5xVgTvZvm"
      },
      "outputs": [],
      "source": [
        "from sklearn.ensemble import RandomForestClassifier\n",
        "classifier=RandomForestClassifier(n_estimators=200,random_state=0)\n",
        "classifier.fit(x_train,y_train)\n",
        "y_pred=classifier.predict(x_test)"
      ]
    },
    {
      "cell_type": "code",
      "execution_count": null,
      "metadata": {
        "id": "RWQFAKSa0YAT"
      },
      "outputs": [],
      "source": [
        "from sklearn.metrics import accuracy_score\n",
        "accuracy = accuracy_score(y_test,y_pred)\n",
        "from sklearn.metrics import precision_score\n",
        "from sklearn.metrics import recall_score\n",
        "precision = precision_score(y_test, y_pred)\n",
        "recall = recall_score(y_test, y_pred)"
      ]
    },
    {
      "cell_type": "code",
      "execution_count": null,
      "metadata": {
        "colab": {
          "base_uri": "https://localhost:8080/"
        },
        "id": "y-efvucw0ezC",
        "outputId": "0281a27d-987f-4868-a24c-bb90bc5e7ca7"
      },
      "outputs": [
        {
          "name": "stdout",
          "output_type": "stream",
          "text": [
            "Accuracy:  0.9994249568717654\n",
            "Precision:  0.9974619289340102\n",
            "Recall:  0.9915895710681245\n"
          ]
        }
      ],
      "source": [
        "print('Accuracy: ',accuracy)\n",
        "print('Precision: ',precision)\n",
        "print('Recall: ',recall)"
      ]
    },
    {
      "cell_type": "markdown",
      "metadata": {
        "id": "lx1n0mIT3I5s"
      },
      "source": [
        "**Logistic Regression**"
      ]
    },
    {
      "cell_type": "code",
      "execution_count": null,
      "metadata": {
        "id": "wPBINC1i3IKT"
      },
      "outputs": [],
      "source": [
        "from sklearn.linear_model import LogisticRegression\n",
        "classifier_logreg = LogisticRegression(solver='liblinear', random_state=0)\n",
        "classifier_logreg.fit(x_train, y_train)\n",
        "y_pred_LR = classifier_logreg.predict(x_test)\n"
      ]
    },
    {
      "cell_type": "code",
      "execution_count": null,
      "metadata": {
        "id": "_uvtr7jb37zo"
      },
      "outputs": [],
      "source": [
        "from sklearn.metrics import accuracy_score\n",
        "accuracy = accuracy_score(y_test,y_pred_LR)\n",
        "from sklearn.metrics import precision_score\n",
        "from sklearn.metrics import recall_score\n",
        "precision = precision_score(y_test, y_pred_LR)\n",
        "recall = recall_score(y_test, y_pred_LR)"
      ]
    },
    {
      "cell_type": "code",
      "execution_count": null,
      "metadata": {
        "colab": {
          "base_uri": "https://localhost:8080/"
        },
        "id": "HhneIUMh1f3D",
        "outputId": "2dd2fdfb-2597-4805-c16e-bd08db8ebad4"
      },
      "outputs": [
        {
          "name": "stdout",
          "output_type": "stream",
          "text": [
            "Accuracy:  0.9656301145662848\n",
            "Precision:  0.7373271889400922\n",
            "Recall:  0.5382674516400336\n"
          ]
        }
      ],
      "source": [
        "print('Accuracy: ',accuracy)\n",
        "print('Precision: ',precision)\n",
        "print('Recall: ',recall)"
      ]
    },
    {
      "cell_type": "markdown",
      "metadata": {
        "id": "dGaNwprwVjzP"
      },
      "source": [
        "**Naive** **Bayes**"
      ]
    },
    {
      "cell_type": "code",
      "execution_count": null,
      "metadata": {
        "id": "emvQh9XOVhXx"
      },
      "outputs": [],
      "source": [
        "from sklearn.naive_bayes import GaussianNB\n",
        "nbmodel = GaussianNB()\n",
        "nbmodel.fit(x_train,y_train)\n",
        "y_pred_nb = nbmodel.predict(x_test)"
      ]
    },
    {
      "cell_type": "code",
      "execution_count": null,
      "metadata": {
        "id": "YiRJNOmb168W"
      },
      "outputs": [],
      "source": [
        "from sklearn.metrics import accuracy_score\n",
        "accuracy = accuracy_score(y_test,y_pred_nb)\n",
        "from sklearn.metrics import precision_score\n",
        "from sklearn.metrics import recall_score\n",
        "precision = precision_score(y_test, y_pred_nb)\n",
        "recall = recall_score(y_test, y_pred_nb)"
      ]
    },
    {
      "cell_type": "code",
      "execution_count": null,
      "metadata": {
        "colab": {
          "base_uri": "https://localhost:8080/"
        },
        "id": "CIlVpTP31-m0",
        "outputId": "e3b9de86-7ba1-4cf8-a7b2-308f2d7d4ceb"
      },
      "outputs": [
        {
          "name": "stdout",
          "output_type": "stream",
          "text": [
            "Accuracy:  0.8783120272481975\n",
            "Precision:  0.28684497816593885\n",
            "Recall:  0.8839360807401178\n"
          ]
        }
      ],
      "source": [
        "print('Accuracy: ',accuracy)\n",
        "print('Precision: ',precision)\n",
        "print('Recall: ',recall)"
      ]
    },
    {
      "cell_type": "markdown",
      "metadata": {
        "id": "uoeCWPOzAY5N"
      },
      "source": [
        "Support Vector Machine"
      ]
    },
    {
      "cell_type": "code",
      "execution_count": null,
      "metadata": {
        "id": "WNJfPTabAcTb"
      },
      "outputs": [],
      "source": [
        "from sklearn.svm import SVC\n",
        "svm_clf = SVC(kernel='linear')\n",
        "svm_clf.fit(x_train,y_train)\n",
        "y_pred_svm = svm_clf.predict(x_test)"
      ]
    },
    {
      "cell_type": "code",
      "execution_count": null,
      "metadata": {
        "id": "ENgDDLpDxUnT"
      },
      "outputs": [],
      "source": [
        "from sklearn.metrics import accuracy_score\n",
        "accuracy = accuracy_score(y_test,y_pred_svm)\n",
        "from sklearn.metrics import precision_score\n",
        "from sklearn.metrics import recall_score\n",
        "precision = precision_score(y_test, y_pred_svm)\n",
        "recall = recall_score(y_test, y_pred_svm)"
      ]
    },
    {
      "cell_type": "code",
      "execution_count": null,
      "metadata": {
        "colab": {
          "base_uri": "https://localhost:8080/"
        },
        "id": "ZZxAUBg02WNf",
        "outputId": "9f38650a-96d4-4697-ceed-7792c24df2e5"
      },
      "outputs": [
        {
          "name": "stdout",
          "output_type": "stream",
          "text": [
            "Accuracy:  0.9762462953952316\n",
            "Precision:  0.7591414944356121\n",
            "Recall:  0.8031959629941127\n"
          ]
        }
      ],
      "source": [
        "print('Accuracy: ',accuracy)\n",
        "print('Precision: ',precision)\n",
        "print('Recall: ',recall)"
      ]
    },
    {
      "cell_type": "markdown",
      "metadata": {
        "id": "NbSRGkwKNYm-"
      },
      "source": [
        "**Artificial Neural Network**"
      ]
    },
    {
      "cell_type": "code",
      "execution_count": null,
      "metadata": {
        "id": "XGcl2HPeNeAY"
      },
      "outputs": [],
      "source": [
        "import keras\n",
        "from keras.models import Sequential\n",
        "from keras.layers import Dense\n",
        "import tensorflow as tf"
      ]
    },
    {
      "cell_type": "code",
      "execution_count": null,
      "metadata": {
        "id": "ftlLY82BPH-B"
      },
      "outputs": [],
      "source": [
        "ann_clf = tf.keras.models.Sequential()\n",
        "ann_clf.add(tf.keras.layers.Dense(units=6,activation=\"relu\"))\n",
        "ann_clf.add(tf.keras.layers.Dense(units=6,activation=\"relu\"))\n",
        "ann_clf.add(tf.keras.layers.Dense(units=1,activation=\"sigmoid\"))\n",
        "ann_clf.compile(optimizer=\"adam\",loss=\"binary_crossentropy\",metrics=['accuracy'])"
      ]
    },
    {
      "cell_type": "code",
      "execution_count": null,
      "metadata": {
        "colab": {
          "background_save": true,
          "base_uri": "https://localhost:8080/"
        },
        "id": "fPtvFWQeQd0Y",
        "outputId": "68b99bf9-dd88-4ac9-cb6d-5f8c6d2c6361"
      },
      "outputs": [
        {
          "name": "stdout",
          "output_type": "stream",
          "text": [
            "Epoch 1/100\n",
            "2826/2826 [==============================] - 6s 2ms/step - loss: 0.0779 - accuracy: 0.9653\n",
            "Epoch 2/100\n",
            "2826/2826 [==============================] - 5s 2ms/step - loss: 0.0390 - accuracy: 0.9882\n",
            "Epoch 3/100\n",
            "2826/2826 [==============================] - 5s 2ms/step - loss: 0.0248 - accuracy: 0.9927\n",
            "Epoch 4/100\n",
            "2826/2826 [==============================] - 5s 2ms/step - loss: 0.0200 - accuracy: 0.9935\n",
            "Epoch 5/100\n",
            "2826/2826 [==============================] - 5s 2ms/step - loss: 0.0179 - accuracy: 0.9940\n",
            "Epoch 6/100\n",
            "2826/2826 [==============================] - 6s 2ms/step - loss: 0.0170 - accuracy: 0.9941\n",
            "Epoch 7/100\n",
            "2826/2826 [==============================] - 5s 2ms/step - loss: 0.0163 - accuracy: 0.9944\n",
            "Epoch 8/100\n",
            "2826/2826 [==============================] - 5s 2ms/step - loss: 0.0159 - accuracy: 0.9944\n",
            "Epoch 9/100\n",
            "2826/2826 [==============================] - 5s 2ms/step - loss: 0.0156 - accuracy: 0.9945\n",
            "Epoch 10/100\n",
            "2826/2826 [==============================] - 5s 2ms/step - loss: 0.0153 - accuracy: 0.9945\n",
            "Epoch 11/100\n",
            "2826/2826 [==============================] - 5s 2ms/step - loss: 0.0153 - accuracy: 0.9946\n",
            "Epoch 12/100\n",
            "2826/2826 [==============================] - 5s 2ms/step - loss: 0.0151 - accuracy: 0.9946\n",
            "Epoch 13/100\n",
            "2826/2826 [==============================] - 5s 2ms/step - loss: 0.0150 - accuracy: 0.9946\n",
            "Epoch 14/100\n",
            "2826/2826 [==============================] - 6s 2ms/step - loss: 0.0148 - accuracy: 0.9948\n",
            "Epoch 15/100\n",
            "2826/2826 [==============================] - 5s 2ms/step - loss: 0.0149 - accuracy: 0.9947\n",
            "Epoch 16/100\n",
            "2826/2826 [==============================] - 5s 2ms/step - loss: 0.0146 - accuracy: 0.9948\n",
            "Epoch 17/100\n",
            "2826/2826 [==============================] - 5s 2ms/step - loss: 0.0147 - accuracy: 0.9946\n",
            "Epoch 18/100\n",
            "2826/2826 [==============================] - 5s 2ms/step - loss: 0.0146 - accuracy: 0.9948\n",
            "Epoch 19/100\n",
            "2826/2826 [==============================] - 5s 2ms/step - loss: 0.0145 - accuracy: 0.9949\n",
            "Epoch 20/100\n",
            "2826/2826 [==============================] - 5s 2ms/step - loss: 0.0144 - accuracy: 0.9949\n",
            "Epoch 21/100\n",
            "2826/2826 [==============================] - 5s 2ms/step - loss: 0.0144 - accuracy: 0.9949\n",
            "Epoch 22/100\n",
            "2826/2826 [==============================] - 5s 2ms/step - loss: 0.0143 - accuracy: 0.9950\n",
            "Epoch 23/100\n",
            "2826/2826 [==============================] - 5s 2ms/step - loss: 0.0143 - accuracy: 0.9950\n",
            "Epoch 24/100\n",
            "2826/2826 [==============================] - 5s 2ms/step - loss: 0.0143 - accuracy: 0.9949\n",
            "Epoch 25/100\n",
            "2826/2826 [==============================] - 5s 2ms/step - loss: 0.0144 - accuracy: 0.9950\n",
            "Epoch 26/100\n",
            "2826/2826 [==============================] - 5s 2ms/step - loss: 0.0142 - accuracy: 0.9951\n",
            "Epoch 27/100\n",
            "2826/2826 [==============================] - 5s 2ms/step - loss: 0.0142 - accuracy: 0.9950\n",
            "Epoch 28/100\n",
            "2826/2826 [==============================] - 5s 2ms/step - loss: 0.0141 - accuracy: 0.9953\n",
            "Epoch 29/100\n",
            "2826/2826 [==============================] - 5s 2ms/step - loss: 0.0142 - accuracy: 0.9952\n",
            "Epoch 30/100\n",
            "2826/2826 [==============================] - 5s 2ms/step - loss: 0.0140 - accuracy: 0.9952\n",
            "Epoch 31/100\n",
            "2826/2826 [==============================] - 5s 2ms/step - loss: 0.0140 - accuracy: 0.9951\n",
            "Epoch 32/100\n",
            "2826/2826 [==============================] - 5s 2ms/step - loss: 0.0140 - accuracy: 0.9952\n",
            "Epoch 33/100\n",
            "2826/2826 [==============================] - 5s 2ms/step - loss: 0.0140 - accuracy: 0.9952\n",
            "Epoch 34/100\n",
            "2826/2826 [==============================] - 5s 2ms/step - loss: 0.0140 - accuracy: 0.9952\n",
            "Epoch 35/100\n",
            "2826/2826 [==============================] - 5s 2ms/step - loss: 0.0140 - accuracy: 0.9952\n",
            "Epoch 36/100\n",
            "2826/2826 [==============================] - 5s 2ms/step - loss: 0.0140 - accuracy: 0.9952\n",
            "Epoch 37/100\n",
            "2826/2826 [==============================] - 5s 2ms/step - loss: 0.0140 - accuracy: 0.9953\n",
            "Epoch 38/100\n",
            "2826/2826 [==============================] - 5s 2ms/step - loss: 0.0139 - accuracy: 0.9952\n",
            "Epoch 39/100\n",
            "2826/2826 [==============================] - 5s 2ms/step - loss: 0.0139 - accuracy: 0.9953\n",
            "Epoch 40/100\n",
            "2826/2826 [==============================] - 5s 2ms/step - loss: 0.0139 - accuracy: 0.9954\n",
            "Epoch 41/100\n",
            "2826/2826 [==============================] - 5s 2ms/step - loss: 0.0140 - accuracy: 0.9953\n",
            "Epoch 42/100\n",
            "2826/2826 [==============================] - 5s 2ms/step - loss: 0.0138 - accuracy: 0.9953\n",
            "Epoch 43/100\n",
            "2826/2826 [==============================] - 5s 2ms/step - loss: 0.0137 - accuracy: 0.9954\n",
            "Epoch 44/100\n",
            "2826/2826 [==============================] - 5s 2ms/step - loss: 0.0138 - accuracy: 0.9952\n",
            "Epoch 45/100\n",
            "2826/2826 [==============================] - 5s 2ms/step - loss: 0.0139 - accuracy: 0.9951\n",
            "Epoch 46/100\n",
            "2826/2826 [==============================] - 5s 2ms/step - loss: 0.0137 - accuracy: 0.9954\n",
            "Epoch 47/100\n",
            "2826/2826 [==============================] - 5s 2ms/step - loss: 0.0138 - accuracy: 0.9953\n",
            "Epoch 48/100\n",
            "2826/2826 [==============================] - 5s 2ms/step - loss: 0.0137 - accuracy: 0.9952\n",
            "Epoch 49/100\n",
            "2826/2826 [==============================] - 5s 2ms/step - loss: 0.0137 - accuracy: 0.9953\n",
            "Epoch 50/100\n",
            "2826/2826 [==============================] - 5s 2ms/step - loss: 0.0137 - accuracy: 0.9952\n",
            "Epoch 51/100\n",
            "2826/2826 [==============================] - 5s 2ms/step - loss: 0.0136 - accuracy: 0.9955\n",
            "Epoch 52/100\n",
            "2826/2826 [==============================] - 5s 2ms/step - loss: 0.0136 - accuracy: 0.9953\n",
            "Epoch 53/100\n",
            "2826/2826 [==============================] - 5s 2ms/step - loss: 0.0138 - accuracy: 0.9952\n",
            "Epoch 54/100\n",
            "2826/2826 [==============================] - 5s 2ms/step - loss: 0.0136 - accuracy: 0.9954\n",
            "Epoch 55/100\n",
            "2826/2826 [==============================] - 5s 2ms/step - loss: 0.0137 - accuracy: 0.9955\n",
            "Epoch 56/100\n",
            "2826/2826 [==============================] - 5s 2ms/step - loss: 0.0136 - accuracy: 0.9952\n",
            "Epoch 57/100\n",
            "2826/2826 [==============================] - 5s 2ms/step - loss: 0.0137 - accuracy: 0.9953\n",
            "Epoch 58/100\n",
            "2826/2826 [==============================] - 5s 2ms/step - loss: 0.0136 - accuracy: 0.9953\n",
            "Epoch 59/100\n",
            "2826/2826 [==============================] - 5s 2ms/step - loss: 0.0136 - accuracy: 0.9954\n",
            "Epoch 60/100\n",
            "2826/2826 [==============================] - 5s 2ms/step - loss: 0.0135 - accuracy: 0.9955\n",
            "Epoch 61/100\n",
            "2826/2826 [==============================] - 5s 2ms/step - loss: 0.0136 - accuracy: 0.9954\n",
            "Epoch 62/100\n",
            "2826/2826 [==============================] - 5s 2ms/step - loss: 0.0135 - accuracy: 0.9954\n",
            "Epoch 63/100\n",
            "2826/2826 [==============================] - 5s 2ms/step - loss: 0.0136 - accuracy: 0.9954\n",
            "Epoch 64/100\n",
            "2826/2826 [==============================] - 5s 2ms/step - loss: 0.0138 - accuracy: 0.9953\n",
            "Epoch 65/100\n",
            "2826/2826 [==============================] - 5s 2ms/step - loss: 0.0135 - accuracy: 0.9954\n",
            "Epoch 66/100\n",
            "2826/2826 [==============================] - 5s 2ms/step - loss: 0.0135 - accuracy: 0.9953\n",
            "Epoch 67/100\n",
            "2826/2826 [==============================] - 5s 2ms/step - loss: 0.0135 - accuracy: 0.9954\n",
            "Epoch 68/100\n",
            "2826/2826 [==============================] - 5s 2ms/step - loss: 0.0135 - accuracy: 0.9956\n",
            "Epoch 69/100\n",
            "2826/2826 [==============================] - 5s 2ms/step - loss: 0.0133 - accuracy: 0.9955\n",
            "Epoch 70/100\n",
            "2826/2826 [==============================] - 5s 2ms/step - loss: 0.0133 - accuracy: 0.9956\n",
            "Epoch 71/100\n",
            "2826/2826 [==============================] - 5s 2ms/step - loss: 0.0128 - accuracy: 0.9957\n",
            "Epoch 72/100\n",
            "2826/2826 [==============================] - 5s 2ms/step - loss: 0.0125 - accuracy: 0.9958\n",
            "Epoch 73/100\n",
            "2826/2826 [==============================] - 5s 2ms/step - loss: 0.0122 - accuracy: 0.9963\n",
            "Epoch 74/100\n",
            "2826/2826 [==============================] - 5s 2ms/step - loss: 0.0117 - accuracy: 0.9966\n",
            "Epoch 75/100\n",
            "2826/2826 [==============================] - 5s 2ms/step - loss: 0.0113 - accuracy: 0.9971\n",
            "Epoch 76/100\n",
            "2826/2826 [==============================] - 5s 2ms/step - loss: 0.0110 - accuracy: 0.9972\n",
            "Epoch 77/100\n",
            "2826/2826 [==============================] - 5s 2ms/step - loss: 0.0114 - accuracy: 0.9972\n",
            "Epoch 78/100\n",
            "2826/2826 [==============================] - 5s 2ms/step - loss: 0.0107 - accuracy: 0.9973\n",
            "Epoch 79/100\n",
            "2826/2826 [==============================] - 5s 2ms/step - loss: 0.0100 - accuracy: 0.9974\n",
            "Epoch 80/100\n",
            "2826/2826 [==============================] - 5s 2ms/step - loss: 0.0098 - accuracy: 0.9975\n",
            "Epoch 81/100\n",
            "2826/2826 [==============================] - 5s 2ms/step - loss: 0.0097 - accuracy: 0.9974\n",
            "Epoch 82/100\n",
            "2826/2826 [==============================] - 5s 2ms/step - loss: 0.0094 - accuracy: 0.9973\n",
            "Epoch 83/100\n",
            "2826/2826 [==============================] - 5s 2ms/step - loss: 0.0093 - accuracy: 0.9975\n",
            "Epoch 84/100\n",
            "2826/2826 [==============================] - 5s 2ms/step - loss: 0.0093 - accuracy: 0.9974\n",
            "Epoch 85/100\n",
            "2826/2826 [==============================] - 5s 2ms/step - loss: 0.0090 - accuracy: 0.9975\n",
            "Epoch 86/100\n",
            "2826/2826 [==============================] - 5s 2ms/step - loss: 0.0090 - accuracy: 0.9974\n",
            "Epoch 87/100\n",
            "2826/2826 [==============================] - 5s 2ms/step - loss: 0.0089 - accuracy: 0.9975\n",
            "Epoch 88/100\n",
            "2826/2826 [==============================] - 5s 2ms/step - loss: 0.0088 - accuracy: 0.9974\n",
            "Epoch 89/100\n",
            "2826/2826 [==============================] - 5s 2ms/step - loss: 0.0089 - accuracy: 0.9974\n",
            "Epoch 90/100\n",
            "2826/2826 [==============================] - 5s 2ms/step - loss: 0.0088 - accuracy: 0.9974\n",
            "Epoch 91/100\n",
            "2826/2826 [==============================] - 5s 2ms/step - loss: 0.0089 - accuracy: 0.9975\n",
            "Epoch 92/100\n",
            "2826/2826 [==============================] - 5s 2ms/step - loss: 0.0089 - accuracy: 0.9975\n",
            "Epoch 93/100\n",
            "2826/2826 [==============================] - 5s 2ms/step - loss: 0.0087 - accuracy: 0.9975\n",
            "Epoch 94/100\n",
            "2826/2826 [==============================] - 5s 2ms/step - loss: 0.0087 - accuracy: 0.9975\n",
            "Epoch 95/100\n",
            "2826/2826 [==============================] - 5s 2ms/step - loss: 0.0086 - accuracy: 0.9976\n",
            "Epoch 96/100\n",
            "2826/2826 [==============================] - 5s 2ms/step - loss: 0.0086 - accuracy: 0.9974\n",
            "Epoch 97/100\n",
            "2826/2826 [==============================] - 5s 2ms/step - loss: 0.0088 - accuracy: 0.9975\n",
            "Epoch 98/100\n",
            "2826/2826 [==============================] - 5s 2ms/step - loss: 0.0085 - accuracy: 0.9976\n",
            "Epoch 99/100\n",
            "2826/2826 [==============================] - 5s 2ms/step - loss: 0.0086 - accuracy: 0.9975\n",
            "Epoch 100/100\n",
            "2826/2826 [==============================] - 5s 2ms/step - loss: 0.0085 - accuracy: 0.9975\n"
          ]
        },
        {
          "data": {
            "text/plain": [
              "<keras.callbacks.History at 0x7fdc151cb950>"
            ]
          },
          "execution_count": null,
          "metadata": {},
          "output_type": "execute_result"
        }
      ],
      "source": [
        "ann_clf.fit(x_train,y_train,batch_size=32,epochs = 100)"
      ]
    },
    {
      "cell_type": "code",
      "execution_count": null,
      "metadata": {
        "colab": {
          "background_save": true
        },
        "id": "AZ_41v_uVUIN"
      },
      "outputs": [],
      "source": [
        "y_pred_ann = ann_clf.predict(x_test)"
      ]
    },
    {
      "cell_type": "code",
      "execution_count": null,
      "metadata": {
        "colab": {
          "background_save": true
        },
        "id": "ebNZ9_sFWhUA"
      },
      "outputs": [],
      "source": [
        "y_pred_ann = (y_pred_ann > 0.5)"
      ]
    },
    {
      "cell_type": "code",
      "execution_count": null,
      "metadata": {
        "colab": {
          "background_save": true
        },
        "id": "GycEp7t_Zjea",
        "outputId": "35b03ce0-c7c9-4675-854a-d3fdf5742b1b"
      },
      "outputs": [
        {
          "data": {
            "text/plain": [
              "array([[False],\n",
              "       [False],\n",
              "       [False],\n",
              "       ...,\n",
              "       [False],\n",
              "       [False],\n",
              "       [False]])"
            ]
          },
          "execution_count": null,
          "metadata": {},
          "output_type": "execute_result"
        }
      ],
      "source": [
        "y_pred_ann"
      ]
    },
    {
      "cell_type": "code",
      "execution_count": null,
      "metadata": {
        "colab": {
          "background_save": true
        },
        "id": "BK30GCLsd8Cb"
      },
      "outputs": [],
      "source": [
        "from sklearn.metrics import accuracy_score\n",
        "accuracy = accuracy_score(y_test,y_pred_ann)\n",
        "from sklearn.metrics import precision_score\n",
        "from sklearn.metrics import recall_score\n",
        "precision = precision_score(y_test, y_pred_ann)\n",
        "recall = recall_score(y_test, y_pred_ann)"
      ]
    },
    {
      "cell_type": "code",
      "execution_count": null,
      "metadata": {
        "colab": {
          "background_save": true
        },
        "id": "0wQnJcD968fQ",
        "outputId": "97acc4b8-2fae-482b-f228-f869c9ce6f45"
      },
      "outputs": [
        {
          "name": "stdout",
          "output_type": "stream",
          "text": [
            "Accuracy:  0.9974344229663379\n",
            "Precision:  0.9820971867007673\n",
            "Recall:  0.9688814129520605\n"
          ]
        }
      ],
      "source": [
        "print('Accuracy: ',accuracy)\n",
        "print('Precision: ',precision)\n",
        "print('Recall: ',recall)"
      ]
    }
  ],
  "metadata": {
    "colab": {
      "collapsed_sections": [],
      "name": "Nagpur rainfall prediction.ipynb",
      "provenance": [],
      "include_colab_link": true
    },
    "kernelspec": {
      "display_name": "Python 3",
      "name": "python3"
    },
    "language_info": {
      "name": "python"
    }
  },
  "nbformat": 4,
  "nbformat_minor": 0
}